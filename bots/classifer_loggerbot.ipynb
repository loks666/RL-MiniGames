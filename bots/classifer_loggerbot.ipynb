{
 "cells": [
  {
   "cell_type": "markdown",
   "metadata": {},
   "source": [
    "### Code to train a neural network based on our loggerbot's csv output\n",
    "\n",
    "First we load the log file in csv format.  This assumes our columns are stored in the order exactly as below, and also that there is no contamination (e.g. other print statements) in the csv file:"
   ]
  },
  {
   "metadata": {
    "ExecuteTime": {
     "end_time": "2024-11-10T17:14:26.016805Z",
     "start_time": "2024-11-10T17:14:26.010806Z"
    }
   },
   "cell_type": "code",
   "source": [
    "import tensorflow as tf\n",
    "print(tf.__version__)"
   ],
   "outputs": [
    {
     "name": "stdout",
     "output_type": "stream",
     "text": [
      "2.16.1\n"
     ]
    }
   ],
   "execution_count": 2
  },
  {
   "cell_type": "code",
   "metadata": {
    "ExecuteTime": {
     "end_time": "2024-11-10T17:14:33.468657Z",
     "start_time": "2024-11-10T17:14:32.807341Z"
    }
   },
   "source": [
    "import pandas as pd\n",
    "# This assumes we've copied the log file (\"LoggerBot.log\") into our current working folder...\n",
    "df0=pd.read_csv(\"LoggerBot.log\",names=[\"Turn\",\"Try\",\"PlayerID\",\"PlayerName\",\"MissionsBeenOn\",\"FailedMissionsBeenOn\",\"VotedUp0\",\"VotedUp1\",\"VotedUp2\",\"VotedUp3\",\"VotedUp4\",\"VotedUp5\",\"VotedDown0\",\"VotedDown1\",\"VotedDown2\",\"VotedDown3\",\"VotedDown4\",\"VotedDown5\",\"Spy\"])"
   ],
   "outputs": [],
   "execution_count": 4
  },
  {
   "cell_type": "code",
   "metadata": {
    "ExecuteTime": {
     "end_time": "2024-11-10T17:14:35.214662Z",
     "start_time": "2024-11-10T17:14:35.206666Z"
    }
   },
   "source": [
    "# This next line just prints the first 5 rows of the loaded data, df0, which is a pandas dataframe object\n",
    "print(df0.head())"
   ],
   "outputs": [
    {
     "name": "stdout",
     "output_type": "stream",
     "text": [
      "   Turn  Try  PlayerID  PlayerName  MissionsBeenOn  FailedMissionsBeenOn  \\\n",
      "0     1    1         0  Logicalton               0                     0   \n",
      "1     2    1         0  Logicalton               1                     1   \n",
      "2     3    1         0  Logicalton               1                     1   \n",
      "3     1    1         1  Trickerton               0                     0   \n",
      "4     2    1         1  Trickerton               1                     1   \n",
      "\n",
      "   VotedUp0  VotedUp1  VotedUp2  VotedUp3  VotedUp4  VotedUp5  VotedDown0  \\\n",
      "0         1         0         0         0         0         0           0   \n",
      "1         1         1         0         0         0         0           0   \n",
      "2         1         2         0         0         0         0           0   \n",
      "3         1         0         0         0         0         0           0   \n",
      "4         1         1         0         0         0         0           0   \n",
      "\n",
      "   VotedDown1  VotedDown2  VotedDown3  VotedDown4  VotedDown5  Spy  \n",
      "0           0           0           0           0           0    1  \n",
      "1           0           0           0           0           0    1  \n",
      "2           0           0           0           0           0    1  \n",
      "3           0           0           0           0           0    0  \n",
      "4           0           0           0           0           0    0  \n"
     ]
    }
   ],
   "execution_count": 5
  },
  {
   "cell_type": "code",
   "metadata": {
    "ExecuteTime": {
     "end_time": "2024-11-10T17:14:37.325720Z",
     "start_time": "2024-11-10T17:14:37.292656Z"
    }
   },
   "source": [
    "# Let's take a subset of the data which only corresponds to the player \"Bounder\", \n",
    "# since bounder is hopefully quite representitive of a good player.  This decision to use only one bot\n",
    "# might not be optimal, but it simplifies things for now.\n",
    "df=df0.query(\"PlayerName=='Bounder'\") # we can filter a pandas dataframe very nicely like an SQL query!\n",
    "print(df.head()) #print the filtered dataset"
   ],
   "outputs": [
    {
     "name": "stdout",
     "output_type": "stream",
     "text": [
      "    Turn  Try  PlayerID PlayerName  MissionsBeenOn  FailedMissionsBeenOn  \\\n",
      "6      1    1         2    Bounder               0                     0   \n",
      "7      2    1         2    Bounder               0                     0   \n",
      "8      3    1         2    Bounder               1                     1   \n",
      "27     1    1         3    Bounder               0                     0   \n",
      "28     2    1         3    Bounder               0                     0   \n",
      "\n",
      "    VotedUp0  VotedUp1  VotedUp2  VotedUp3  VotedUp4  VotedUp5  VotedDown0  \\\n",
      "6          1         0         0         0         0         0           0   \n",
      "7          1         1         0         0         0         0           0   \n",
      "8          1         2         0         0         0         0           0   \n",
      "27         1         0         0         0         0         0           0   \n",
      "28         1         0         0         0         0         0           1   \n",
      "\n",
      "    VotedDown1  VotedDown2  VotedDown3  VotedDown4  VotedDown5  Spy  \n",
      "6            0           0           0           0           0    1  \n",
      "7            0           0           0           0           0    1  \n",
      "8            0           0           0           0           0    1  \n",
      "27           0           0           0           0           0    0  \n",
      "28           0           0           0           0           0    0  \n"
     ]
    }
   ],
   "execution_count": 6
  },
  {
   "cell_type": "code",
   "metadata": {
    "ExecuteTime": {
     "end_time": "2024-11-10T17:14:38.314695Z",
     "start_time": "2024-11-10T17:14:38.250660Z"
    }
   },
   "source": [
    "print(df.describe()) # print some key column information\n",
    "# This lets us visually inspect the columns to check there's no nan values in there or infinity values,\n",
    "# or anything else showing signs of data corruption...."
   ],
   "outputs": [
    {
     "name": "stdout",
     "output_type": "stream",
     "text": [
      "               Turn           Try      PlayerID  MissionsBeenOn  \\\n",
      "count  95991.000000  95991.000000  95991.000000    95991.000000   \n",
      "mean       2.743643      1.205269      2.005678        0.815806   \n",
      "std        1.279998      0.537280      1.415553        0.836170   \n",
      "min        1.000000      1.000000      0.000000        0.000000   \n",
      "25%        2.000000      1.000000      1.000000        0.000000   \n",
      "50%        3.000000      1.000000      2.000000        1.000000   \n",
      "75%        4.000000      1.000000      3.000000        1.000000   \n",
      "max        5.000000      5.000000      4.000000        4.000000   \n",
      "\n",
      "       FailedMissionsBeenOn      VotedUp0      VotedUp1      VotedUp2  \\\n",
      "count          95991.000000  95991.000000  95991.000000  95991.000000   \n",
      "mean               0.496984      1.300768      0.473451      0.227521   \n",
      "std                0.614094      0.564826      0.650675      0.497990   \n",
      "min                0.000000      1.000000      0.000000      0.000000   \n",
      "25%                0.000000      1.000000      0.000000      0.000000   \n",
      "50%                0.000000      1.000000      0.000000      0.000000   \n",
      "75%                1.000000      2.000000      1.000000      0.000000   \n",
      "max                2.000000      8.000000      6.000000      4.000000   \n",
      "\n",
      "           VotedUp3      VotedUp4      VotedUp5    VotedDown0    VotedDown1  \\\n",
      "count  95991.000000  95991.000000  95991.000000  95991.000000  95991.000000   \n",
      "mean       0.097238      0.022481      0.000823      0.390516      0.310039   \n",
      "std        0.332783      0.156183      0.028676      0.620677      0.579864   \n",
      "min        0.000000      0.000000      0.000000      0.000000      0.000000   \n",
      "25%        0.000000      0.000000      0.000000      0.000000      0.000000   \n",
      "50%        0.000000      0.000000      0.000000      0.000000      0.000000   \n",
      "75%        0.000000      0.000000      0.000000      1.000000      1.000000   \n",
      "max        3.000000      3.000000      1.000000      5.000000      8.000000   \n",
      "\n",
      "         VotedDown2    VotedDown3    VotedDown4    VotedDown5           Spy  \n",
      "count  95991.000000  95991.000000  95991.000000  95991.000000  95991.000000  \n",
      "mean       0.183944      0.106948      0.028794      0.000740      0.393808  \n",
      "std        0.478315      0.359360      0.176798      0.027943      0.488596  \n",
      "min        0.000000      0.000000      0.000000      0.000000      0.000000  \n",
      "25%        0.000000      0.000000      0.000000      0.000000      0.000000  \n",
      "50%        0.000000      0.000000      0.000000      0.000000      0.000000  \n",
      "75%        0.000000      0.000000      0.000000      0.000000      1.000000  \n",
      "max        6.000000      4.000000      3.000000      2.000000      1.000000  \n"
     ]
    }
   ],
   "execution_count": 7
  },
  {
   "cell_type": "code",
   "metadata": {
    "ExecuteTime": {
     "end_time": "2024-11-10T17:14:39.931877Z",
     "start_time": "2024-11-10T17:14:39.838577Z"
    }
   },
   "source": [
    "import numpy as np \n",
    "x_train=df.values[:,4:18].astype(np.float32) # This filters out only the columns we want to use as input vector for our NN.\n",
    "# Note [:,4:18] only includes columns 4 to 17 inclusive (it does not include column 18)\n",
    "y_train=df.values[:,18].astype(np.int32) # This is our target column.\n",
    "print(y_train.shape) # This is just a rank 1 array.\n",
    "print(y_train[0:6]) # first 6 entries of y.  Should be all 1s and zeros\n",
    "print(x_train[0:6]) # first 6 rows of x, our input vectors.\n",
    "num_inputs=x_train.shape[1] # this works out how many columns there are in x, i.e. how many inputs our network needs.\n",
    "num_outputs=2 # Two outputs needed - for \"spy\" or \"not spy\"."
   ],
   "outputs": [
    {
     "name": "stdout",
     "output_type": "stream",
     "text": [
      "(95991,)\n",
      "[1 1 1 0 0 0]\n",
      "[[0. 0. 1. 0. 0. 0. 0. 0. 0. 0. 0. 0. 0. 0.]\n",
      " [0. 0. 1. 1. 0. 0. 0. 0. 0. 0. 0. 0. 0. 0.]\n",
      " [1. 1. 1. 2. 0. 0. 0. 0. 0. 0. 0. 0. 0. 0.]\n",
      " [0. 0. 1. 0. 0. 0. 0. 0. 0. 0. 0. 0. 0. 0.]\n",
      " [0. 0. 1. 0. 0. 0. 0. 0. 1. 0. 0. 0. 0. 0.]\n",
      " [1. 1. 1. 0. 1. 0. 0. 0. 1. 0. 0. 0. 0. 0.]]\n"
     ]
    }
   ],
   "execution_count": 8
  },
  {
   "cell_type": "code",
   "metadata": {
    "ExecuteTime": {
     "end_time": "2024-11-10T17:14:41.156173Z",
     "start_time": "2024-11-10T17:14:41.151951Z"
    }
   },
   "source": [
    "# Split the dataset into a training data set and a validation dataset.\n",
    "dataset_size=len(x_train)\n",
    "train_set_size=int(dataset_size*0.7) # choose 70% of the data for training and 30% for validation\n",
    "x_val,y_val=x_train[train_set_size:],y_train[train_set_size:]\n",
    "x_train,y_train=x_train[:train_set_size],y_train[:train_set_size]"
   ],
   "outputs": [],
   "execution_count": 9
  },
  {
   "cell_type": "code",
   "metadata": {
    "ExecuteTime": {
     "end_time": "2024-11-10T17:30:09.872026Z",
     "start_time": "2024-11-10T17:30:09.838935Z"
    }
   },
   "source": [
    "import keras\n",
    "from keras import layers\n",
    "# from tensorflow.python.keras import layers\n",
    "# from tensorflow.python import keras\n",
    "# Build a keras model:\n",
    "import tensorflow as tf\n",
    "# from tensorflow import keras\n",
    "# from tensorflow.keras import layers\n",
    "\n",
    "\n",
    "# Define Sequential model with an explicit Input layer\n",
    "model = keras.Sequential(name=\"my_neural_network\")\n",
    "model.add(layers.Input(shape=(num_inputs,)))  # 添加输入层，定义输入形状\n",
    "model.add(layers.Dense(10, activation=\"tanh\"))\n",
    "model.add(layers.Dense(10, activation=\"tanh\"))\n",
    "model.add(layers.Dense(num_outputs, activation=\"softmax\"))\n",
    "\n",
    "# 检查模型输出形状\n",
    "print(model(x_train[0:3]))  # 这将打印模型的输出，验证它的结构是否正确"
   ],
   "outputs": [
    {
     "name": "stdout",
     "output_type": "stream",
     "text": [
      "tf.Tensor(\n",
      "[[0.50980073 0.49019933]\n",
      " [0.30897176 0.69102824]\n",
      " [0.11317045 0.8868296 ]], shape=(3, 2), dtype=float32)\n"
     ]
    }
   ],
   "execution_count": 22
  },
  {
   "cell_type": "code",
   "metadata": {
    "ExecuteTime": {
     "end_time": "2024-11-10T17:30:13.457312Z",
     "start_time": "2024-11-10T17:30:13.447431Z"
    }
   },
   "source": [
    "# Do the usual business for keras training\n",
    "# It's a classification problem , so we need cross entropy here.\n",
    "model.compile(\n",
    "    optimizer=keras.optimizers.Adam(0.001),  # Optimizer\n",
    "    # Loss function to minimize\n",
    "    loss=keras.losses.SparseCategoricalCrossentropy(),\n",
    "    metrics=['accuracy']\n",
    ")"
   ],
   "outputs": [],
   "execution_count": 23
  },
  {
   "cell_type": "code",
   "metadata": {
    "ExecuteTime": {
     "end_time": "2024-11-10T17:33:09.110952Z",
     "start_time": "2024-11-10T17:30:15.732842Z"
    }
   },
   "source": [
    "# Do the usual business for keras training\n",
    "history = model.fit(\n",
    "    x_train,\n",
    "    y_train,\n",
    "    batch_size=50,\n",
    "    epochs=120,\n",
    "    validation_data=(x_val, y_val),verbose=1\n",
    ")"
   ],
   "outputs": [
    {
     "name": "stdout",
     "output_type": "stream",
     "text": [
      "Epoch 1/120\n",
      "\u001B[1m1344/1344\u001B[0m \u001B[32m━━━━━━━━━━━━━━━━━━━━\u001B[0m\u001B[37m\u001B[0m \u001B[1m2s\u001B[0m 1ms/step - accuracy: 0.6548 - loss: 0.5950 - val_accuracy: 0.7451 - val_loss: 0.4575\n",
      "Epoch 2/120\n",
      "\u001B[1m1344/1344\u001B[0m \u001B[32m━━━━━━━━━━━━━━━━━━━━\u001B[0m\u001B[37m\u001B[0m \u001B[1m1s\u001B[0m 954us/step - accuracy: 0.7432 - loss: 0.4614 - val_accuracy: 0.7548 - val_loss: 0.4461\n",
      "Epoch 3/120\n",
      "\u001B[1m1344/1344\u001B[0m \u001B[32m━━━━━━━━━━━━━━━━━━━━\u001B[0m\u001B[37m\u001B[0m \u001B[1m1s\u001B[0m 954us/step - accuracy: 0.7524 - loss: 0.4490 - val_accuracy: 0.7634 - val_loss: 0.4395\n",
      "Epoch 4/120\n",
      "\u001B[1m1344/1344\u001B[0m \u001B[32m━━━━━━━━━━━━━━━━━━━━\u001B[0m\u001B[37m\u001B[0m \u001B[1m1s\u001B[0m 920us/step - accuracy: 0.7571 - loss: 0.4419 - val_accuracy: 0.7600 - val_loss: 0.4407\n",
      "Epoch 5/120\n",
      "\u001B[1m1344/1344\u001B[0m \u001B[32m━━━━━━━━━━━━━━━━━━━━\u001B[0m\u001B[37m\u001B[0m \u001B[1m1s\u001B[0m 967us/step - accuracy: 0.7586 - loss: 0.4406 - val_accuracy: 0.7658 - val_loss: 0.4342\n",
      "Epoch 6/120\n",
      "\u001B[1m1344/1344\u001B[0m \u001B[32m━━━━━━━━━━━━━━━━━━━━\u001B[0m\u001B[37m\u001B[0m \u001B[1m1s\u001B[0m 931us/step - accuracy: 0.7587 - loss: 0.4405 - val_accuracy: 0.7651 - val_loss: 0.4339\n",
      "Epoch 7/120\n",
      "\u001B[1m1344/1344\u001B[0m \u001B[32m━━━━━━━━━━━━━━━━━━━━\u001B[0m\u001B[37m\u001B[0m \u001B[1m1s\u001B[0m 954us/step - accuracy: 0.7593 - loss: 0.4388 - val_accuracy: 0.7657 - val_loss: 0.4322\n",
      "Epoch 8/120\n",
      "\u001B[1m1344/1344\u001B[0m \u001B[32m━━━━━━━━━━━━━━━━━━━━\u001B[0m\u001B[37m\u001B[0m \u001B[1m1s\u001B[0m 942us/step - accuracy: 0.7585 - loss: 0.4367 - val_accuracy: 0.7651 - val_loss: 0.4330\n",
      "Epoch 9/120\n",
      "\u001B[1m1344/1344\u001B[0m \u001B[32m━━━━━━━━━━━━━━━━━━━━\u001B[0m\u001B[37m\u001B[0m \u001B[1m2s\u001B[0m 1ms/step - accuracy: 0.7593 - loss: 0.4365 - val_accuracy: 0.7640 - val_loss: 0.4339\n",
      "Epoch 10/120\n",
      "\u001B[1m1344/1344\u001B[0m \u001B[32m━━━━━━━━━━━━━━━━━━━━\u001B[0m\u001B[37m\u001B[0m \u001B[1m1s\u001B[0m 1ms/step - accuracy: 0.7608 - loss: 0.4361 - val_accuracy: 0.7593 - val_loss: 0.4310\n",
      "Epoch 11/120\n",
      "\u001B[1m1344/1344\u001B[0m \u001B[32m━━━━━━━━━━━━━━━━━━━━\u001B[0m\u001B[37m\u001B[0m \u001B[1m1s\u001B[0m 1ms/step - accuracy: 0.7641 - loss: 0.4298 - val_accuracy: 0.7669 - val_loss: 0.4282\n",
      "Epoch 12/120\n",
      "\u001B[1m1344/1344\u001B[0m \u001B[32m━━━━━━━━━━━━━━━━━━━━\u001B[0m\u001B[37m\u001B[0m \u001B[1m1s\u001B[0m 1ms/step - accuracy: 0.7637 - loss: 0.4315 - val_accuracy: 0.7651 - val_loss: 0.4284\n",
      "Epoch 13/120\n",
      "\u001B[1m1344/1344\u001B[0m \u001B[32m━━━━━━━━━━━━━━━━━━━━\u001B[0m\u001B[37m\u001B[0m \u001B[1m1s\u001B[0m 944us/step - accuracy: 0.7627 - loss: 0.4285 - val_accuracy: 0.7646 - val_loss: 0.4275\n",
      "Epoch 14/120\n",
      "\u001B[1m1344/1344\u001B[0m \u001B[32m━━━━━━━━━━━━━━━━━━━━\u001B[0m\u001B[37m\u001B[0m \u001B[1m1s\u001B[0m 968us/step - accuracy: 0.7634 - loss: 0.4303 - val_accuracy: 0.7654 - val_loss: 0.4264\n",
      "Epoch 15/120\n",
      "\u001B[1m1344/1344\u001B[0m \u001B[32m━━━━━━━━━━━━━━━━━━━━\u001B[0m\u001B[37m\u001B[0m \u001B[1m1s\u001B[0m 992us/step - accuracy: 0.7643 - loss: 0.4293 - val_accuracy: 0.7657 - val_loss: 0.4268\n",
      "Epoch 16/120\n",
      "\u001B[1m1344/1344\u001B[0m \u001B[32m━━━━━━━━━━━━━━━━━━━━\u001B[0m\u001B[37m\u001B[0m \u001B[1m1s\u001B[0m 1ms/step - accuracy: 0.7679 - loss: 0.4245 - val_accuracy: 0.7663 - val_loss: 0.4251\n",
      "Epoch 17/120\n",
      "\u001B[1m1344/1344\u001B[0m \u001B[32m━━━━━━━━━━━━━━━━━━━━\u001B[0m\u001B[37m\u001B[0m \u001B[1m1s\u001B[0m 960us/step - accuracy: 0.7640 - loss: 0.4276 - val_accuracy: 0.7669 - val_loss: 0.4245\n",
      "Epoch 18/120\n",
      "\u001B[1m1344/1344\u001B[0m \u001B[32m━━━━━━━━━━━━━━━━━━━━\u001B[0m\u001B[37m\u001B[0m \u001B[1m1s\u001B[0m 995us/step - accuracy: 0.7630 - loss: 0.4285 - val_accuracy: 0.7635 - val_loss: 0.4257\n",
      "Epoch 19/120\n",
      "\u001B[1m1344/1344\u001B[0m \u001B[32m━━━━━━━━━━━━━━━━━━━━\u001B[0m\u001B[37m\u001B[0m \u001B[1m1s\u001B[0m 1ms/step - accuracy: 0.7631 - loss: 0.4304 - val_accuracy: 0.7694 - val_loss: 0.4243\n",
      "Epoch 20/120\n",
      "\u001B[1m1344/1344\u001B[0m \u001B[32m━━━━━━━━━━━━━━━━━━━━\u001B[0m\u001B[37m\u001B[0m \u001B[1m1s\u001B[0m 991us/step - accuracy: 0.7663 - loss: 0.4243 - val_accuracy: 0.7670 - val_loss: 0.4238\n",
      "Epoch 21/120\n",
      "\u001B[1m1344/1344\u001B[0m \u001B[32m━━━━━━━━━━━━━━━━━━━━\u001B[0m\u001B[37m\u001B[0m \u001B[1m1s\u001B[0m 1ms/step - accuracy: 0.7667 - loss: 0.4261 - val_accuracy: 0.7667 - val_loss: 0.4223\n",
      "Epoch 22/120\n",
      "\u001B[1m1344/1344\u001B[0m \u001B[32m━━━━━━━━━━━━━━━━━━━━\u001B[0m\u001B[37m\u001B[0m \u001B[1m1s\u001B[0m 1ms/step - accuracy: 0.7642 - loss: 0.4273 - val_accuracy: 0.7676 - val_loss: 0.4240\n",
      "Epoch 23/120\n",
      "\u001B[1m1344/1344\u001B[0m \u001B[32m━━━━━━━━━━━━━━━━━━━━\u001B[0m\u001B[37m\u001B[0m \u001B[1m1s\u001B[0m 1ms/step - accuracy: 0.7671 - loss: 0.4243 - val_accuracy: 0.7657 - val_loss: 0.4248\n",
      "Epoch 24/120\n",
      "\u001B[1m1344/1344\u001B[0m \u001B[32m━━━━━━━━━━━━━━━━━━━━\u001B[0m\u001B[37m\u001B[0m \u001B[1m1s\u001B[0m 1ms/step - accuracy: 0.7670 - loss: 0.4232 - val_accuracy: 0.7598 - val_loss: 0.4246\n",
      "Epoch 25/120\n",
      "\u001B[1m1344/1344\u001B[0m \u001B[32m━━━━━━━━━━━━━━━━━━━━\u001B[0m\u001B[37m\u001B[0m \u001B[1m1s\u001B[0m 1ms/step - accuracy: 0.7665 - loss: 0.4242 - val_accuracy: 0.7651 - val_loss: 0.4265\n",
      "Epoch 26/120\n",
      "\u001B[1m1344/1344\u001B[0m \u001B[32m━━━━━━━━━━━━━━━━━━━━\u001B[0m\u001B[37m\u001B[0m \u001B[1m1s\u001B[0m 1ms/step - accuracy: 0.7660 - loss: 0.4262 - val_accuracy: 0.7659 - val_loss: 0.4238\n",
      "Epoch 27/120\n",
      "\u001B[1m1344/1344\u001B[0m \u001B[32m━━━━━━━━━━━━━━━━━━━━\u001B[0m\u001B[37m\u001B[0m \u001B[1m1s\u001B[0m 1ms/step - accuracy: 0.7654 - loss: 0.4268 - val_accuracy: 0.7678 - val_loss: 0.4210\n",
      "Epoch 28/120\n",
      "\u001B[1m1344/1344\u001B[0m \u001B[32m━━━━━━━━━━━━━━━━━━━━\u001B[0m\u001B[37m\u001B[0m \u001B[1m1s\u001B[0m 1ms/step - accuracy: 0.7657 - loss: 0.4252 - val_accuracy: 0.7682 - val_loss: 0.4224\n",
      "Epoch 29/120\n",
      "\u001B[1m1344/1344\u001B[0m \u001B[32m━━━━━━━━━━━━━━━━━━━━\u001B[0m\u001B[37m\u001B[0m \u001B[1m2s\u001B[0m 1ms/step - accuracy: 0.7703 - loss: 0.4219 - val_accuracy: 0.7666 - val_loss: 0.4253\n",
      "Epoch 30/120\n",
      "\u001B[1m1344/1344\u001B[0m \u001B[32m━━━━━━━━━━━━━━━━━━━━\u001B[0m\u001B[37m\u001B[0m \u001B[1m2s\u001B[0m 2ms/step - accuracy: 0.7671 - loss: 0.4235 - val_accuracy: 0.7677 - val_loss: 0.4229\n",
      "Epoch 31/120\n",
      "\u001B[1m1344/1344\u001B[0m \u001B[32m━━━━━━━━━━━━━━━━━━━━\u001B[0m\u001B[37m\u001B[0m \u001B[1m2s\u001B[0m 1ms/step - accuracy: 0.7681 - loss: 0.4217 - val_accuracy: 0.7651 - val_loss: 0.4224\n",
      "Epoch 32/120\n",
      "\u001B[1m1344/1344\u001B[0m \u001B[32m━━━━━━━━━━━━━━━━━━━━\u001B[0m\u001B[37m\u001B[0m \u001B[1m2s\u001B[0m 1ms/step - accuracy: 0.7672 - loss: 0.4250 - val_accuracy: 0.7673 - val_loss: 0.4215\n",
      "Epoch 33/120\n",
      "\u001B[1m1344/1344\u001B[0m \u001B[32m━━━━━━━━━━━━━━━━━━━━\u001B[0m\u001B[37m\u001B[0m \u001B[1m2s\u001B[0m 1ms/step - accuracy: 0.7649 - loss: 0.4254 - val_accuracy: 0.7665 - val_loss: 0.4232\n",
      "Epoch 34/120\n",
      "\u001B[1m1344/1344\u001B[0m \u001B[32m━━━━━━━━━━━━━━━━━━━━\u001B[0m\u001B[37m\u001B[0m \u001B[1m2s\u001B[0m 1ms/step - accuracy: 0.7687 - loss: 0.4225 - val_accuracy: 0.7672 - val_loss: 0.4233\n",
      "Epoch 35/120\n",
      "\u001B[1m1344/1344\u001B[0m \u001B[32m━━━━━━━━━━━━━━━━━━━━\u001B[0m\u001B[37m\u001B[0m \u001B[1m1s\u001B[0m 1ms/step - accuracy: 0.7648 - loss: 0.4236 - val_accuracy: 0.7665 - val_loss: 0.4220\n",
      "Epoch 36/120\n",
      "\u001B[1m1344/1344\u001B[0m \u001B[32m━━━━━━━━━━━━━━━━━━━━\u001B[0m\u001B[37m\u001B[0m \u001B[1m2s\u001B[0m 1ms/step - accuracy: 0.7647 - loss: 0.4266 - val_accuracy: 0.7635 - val_loss: 0.4219\n",
      "Epoch 37/120\n",
      "\u001B[1m1344/1344\u001B[0m \u001B[32m━━━━━━━━━━━━━━━━━━━━\u001B[0m\u001B[37m\u001B[0m \u001B[1m1s\u001B[0m 1ms/step - accuracy: 0.7657 - loss: 0.4233 - val_accuracy: 0.7687 - val_loss: 0.4189\n",
      "Epoch 38/120\n",
      "\u001B[1m1344/1344\u001B[0m \u001B[32m━━━━━━━━━━━━━━━━━━━━\u001B[0m\u001B[37m\u001B[0m \u001B[1m1s\u001B[0m 1ms/step - accuracy: 0.7679 - loss: 0.4215 - val_accuracy: 0.7692 - val_loss: 0.4188\n",
      "Epoch 39/120\n",
      "\u001B[1m1344/1344\u001B[0m \u001B[32m━━━━━━━━━━━━━━━━━━━━\u001B[0m\u001B[37m\u001B[0m \u001B[1m2s\u001B[0m 1ms/step - accuracy: 0.7656 - loss: 0.4233 - val_accuracy: 0.7600 - val_loss: 0.4265\n",
      "Epoch 40/120\n",
      "\u001B[1m1344/1344\u001B[0m \u001B[32m━━━━━━━━━━━━━━━━━━━━\u001B[0m\u001B[37m\u001B[0m \u001B[1m1s\u001B[0m 1ms/step - accuracy: 0.7676 - loss: 0.4226 - val_accuracy: 0.7718 - val_loss: 0.4182\n",
      "Epoch 41/120\n",
      "\u001B[1m1344/1344\u001B[0m \u001B[32m━━━━━━━━━━━━━━━━━━━━\u001B[0m\u001B[37m\u001B[0m \u001B[1m1s\u001B[0m 1ms/step - accuracy: 0.7665 - loss: 0.4233 - val_accuracy: 0.7666 - val_loss: 0.4197\n",
      "Epoch 42/120\n",
      "\u001B[1m1344/1344\u001B[0m \u001B[32m━━━━━━━━━━━━━━━━━━━━\u001B[0m\u001B[37m\u001B[0m \u001B[1m1s\u001B[0m 1ms/step - accuracy: 0.7689 - loss: 0.4198 - val_accuracy: 0.7701 - val_loss: 0.4197\n",
      "Epoch 43/120\n",
      "\u001B[1m1344/1344\u001B[0m \u001B[32m━━━━━━━━━━━━━━━━━━━━\u001B[0m\u001B[37m\u001B[0m \u001B[1m2s\u001B[0m 1ms/step - accuracy: 0.7688 - loss: 0.4208 - val_accuracy: 0.7671 - val_loss: 0.4189\n",
      "Epoch 44/120\n",
      "\u001B[1m1344/1344\u001B[0m \u001B[32m━━━━━━━━━━━━━━━━━━━━\u001B[0m\u001B[37m\u001B[0m \u001B[1m1s\u001B[0m 1ms/step - accuracy: 0.7664 - loss: 0.4213 - val_accuracy: 0.7670 - val_loss: 0.4187\n",
      "Epoch 45/120\n",
      "\u001B[1m1344/1344\u001B[0m \u001B[32m━━━━━━━━━━━━━━━━━━━━\u001B[0m\u001B[37m\u001B[0m \u001B[1m2s\u001B[0m 1ms/step - accuracy: 0.7689 - loss: 0.4208 - val_accuracy: 0.7700 - val_loss: 0.4184\n",
      "Epoch 46/120\n",
      "\u001B[1m1344/1344\u001B[0m \u001B[32m━━━━━━━━━━━━━━━━━━━━\u001B[0m\u001B[37m\u001B[0m \u001B[1m1s\u001B[0m 1ms/step - accuracy: 0.7669 - loss: 0.4194 - val_accuracy: 0.7682 - val_loss: 0.4191\n",
      "Epoch 47/120\n",
      "\u001B[1m1344/1344\u001B[0m \u001B[32m━━━━━━━━━━━━━━━━━━━━\u001B[0m\u001B[37m\u001B[0m \u001B[1m1s\u001B[0m 1ms/step - accuracy: 0.7677 - loss: 0.4220 - val_accuracy: 0.7698 - val_loss: 0.4216\n",
      "Epoch 48/120\n",
      "\u001B[1m1344/1344\u001B[0m \u001B[32m━━━━━━━━━━━━━━━━━━━━\u001B[0m\u001B[37m\u001B[0m \u001B[1m1s\u001B[0m 1ms/step - accuracy: 0.7673 - loss: 0.4197 - val_accuracy: 0.7699 - val_loss: 0.4182\n",
      "Epoch 49/120\n",
      "\u001B[1m1344/1344\u001B[0m \u001B[32m━━━━━━━━━━━━━━━━━━━━\u001B[0m\u001B[37m\u001B[0m \u001B[1m1s\u001B[0m 1ms/step - accuracy: 0.7700 - loss: 0.4201 - val_accuracy: 0.7705 - val_loss: 0.4169\n",
      "Epoch 50/120\n",
      "\u001B[1m1344/1344\u001B[0m \u001B[32m━━━━━━━━━━━━━━━━━━━━\u001B[0m\u001B[37m\u001B[0m \u001B[1m2s\u001B[0m 1ms/step - accuracy: 0.7692 - loss: 0.4176 - val_accuracy: 0.7699 - val_loss: 0.4163\n",
      "Epoch 51/120\n",
      "\u001B[1m1344/1344\u001B[0m \u001B[32m━━━━━━━━━━━━━━━━━━━━\u001B[0m\u001B[37m\u001B[0m \u001B[1m1s\u001B[0m 1ms/step - accuracy: 0.7655 - loss: 0.4238 - val_accuracy: 0.7715 - val_loss: 0.4170\n",
      "Epoch 52/120\n",
      "\u001B[1m1344/1344\u001B[0m \u001B[32m━━━━━━━━━━━━━━━━━━━━\u001B[0m\u001B[37m\u001B[0m \u001B[1m2s\u001B[0m 1ms/step - accuracy: 0.7679 - loss: 0.4196 - val_accuracy: 0.7676 - val_loss: 0.4218\n",
      "Epoch 53/120\n",
      "\u001B[1m1344/1344\u001B[0m \u001B[32m━━━━━━━━━━━━━━━━━━━━\u001B[0m\u001B[37m\u001B[0m \u001B[1m1s\u001B[0m 1ms/step - accuracy: 0.7674 - loss: 0.4195 - val_accuracy: 0.7723 - val_loss: 0.4156\n",
      "Epoch 54/120\n",
      "\u001B[1m1344/1344\u001B[0m \u001B[32m━━━━━━━━━━━━━━━━━━━━\u001B[0m\u001B[37m\u001B[0m \u001B[1m2s\u001B[0m 1ms/step - accuracy: 0.7659 - loss: 0.4199 - val_accuracy: 0.7706 - val_loss: 0.4187\n",
      "Epoch 55/120\n",
      "\u001B[1m1344/1344\u001B[0m \u001B[32m━━━━━━━━━━━━━━━━━━━━\u001B[0m\u001B[37m\u001B[0m \u001B[1m1s\u001B[0m 1ms/step - accuracy: 0.7680 - loss: 0.4192 - val_accuracy: 0.7699 - val_loss: 0.4152\n",
      "Epoch 56/120\n",
      "\u001B[1m1344/1344\u001B[0m \u001B[32m━━━━━━━━━━━━━━━━━━━━\u001B[0m\u001B[37m\u001B[0m \u001B[1m2s\u001B[0m 1ms/step - accuracy: 0.7669 - loss: 0.4197 - val_accuracy: 0.7707 - val_loss: 0.4195\n",
      "Epoch 57/120\n",
      "\u001B[1m1344/1344\u001B[0m \u001B[32m━━━━━━━━━━━━━━━━━━━━\u001B[0m\u001B[37m\u001B[0m \u001B[1m1s\u001B[0m 998us/step - accuracy: 0.7713 - loss: 0.4165 - val_accuracy: 0.7710 - val_loss: 0.4158\n",
      "Epoch 58/120\n",
      "\u001B[1m1344/1344\u001B[0m \u001B[32m━━━━━━━━━━━━━━━━━━━━\u001B[0m\u001B[37m\u001B[0m \u001B[1m2s\u001B[0m 1ms/step - accuracy: 0.7691 - loss: 0.4189 - val_accuracy: 0.7695 - val_loss: 0.4165\n",
      "Epoch 59/120\n",
      "\u001B[1m1344/1344\u001B[0m \u001B[32m━━━━━━━━━━━━━━━━━━━━\u001B[0m\u001B[37m\u001B[0m \u001B[1m1s\u001B[0m 998us/step - accuracy: 0.7701 - loss: 0.4198 - val_accuracy: 0.7687 - val_loss: 0.4167\n",
      "Epoch 60/120\n",
      "\u001B[1m1344/1344\u001B[0m \u001B[32m━━━━━━━━━━━━━━━━━━━━\u001B[0m\u001B[37m\u001B[0m \u001B[1m2s\u001B[0m 1ms/step - accuracy: 0.7703 - loss: 0.4189 - val_accuracy: 0.7726 - val_loss: 0.4183\n",
      "Epoch 61/120\n",
      "\u001B[1m1344/1344\u001B[0m \u001B[32m━━━━━━━━━━━━━━━━━━━━\u001B[0m\u001B[37m\u001B[0m \u001B[1m2s\u001B[0m 1ms/step - accuracy: 0.7712 - loss: 0.4165 - val_accuracy: 0.7705 - val_loss: 0.4158\n",
      "Epoch 62/120\n",
      "\u001B[1m1344/1344\u001B[0m \u001B[32m━━━━━━━━━━━━━━━━━━━━\u001B[0m\u001B[37m\u001B[0m \u001B[1m1s\u001B[0m 1ms/step - accuracy: 0.7701 - loss: 0.4179 - val_accuracy: 0.7713 - val_loss: 0.4150\n",
      "Epoch 63/120\n",
      "\u001B[1m1344/1344\u001B[0m \u001B[32m━━━━━━━━━━━━━━━━━━━━\u001B[0m\u001B[37m\u001B[0m \u001B[1m2s\u001B[0m 1ms/step - accuracy: 0.7694 - loss: 0.4185 - val_accuracy: 0.7734 - val_loss: 0.4146\n",
      "Epoch 64/120\n",
      "\u001B[1m1344/1344\u001B[0m \u001B[32m━━━━━━━━━━━━━━━━━━━━\u001B[0m\u001B[37m\u001B[0m \u001B[1m1s\u001B[0m 1ms/step - accuracy: 0.7683 - loss: 0.4189 - val_accuracy: 0.7746 - val_loss: 0.4145\n",
      "Epoch 65/120\n",
      "\u001B[1m1344/1344\u001B[0m \u001B[32m━━━━━━━━━━━━━━━━━━━━\u001B[0m\u001B[37m\u001B[0m \u001B[1m1s\u001B[0m 1ms/step - accuracy: 0.7677 - loss: 0.4191 - val_accuracy: 0.7703 - val_loss: 0.4145\n",
      "Epoch 66/120\n",
      "\u001B[1m1344/1344\u001B[0m \u001B[32m━━━━━━━━━━━━━━━━━━━━\u001B[0m\u001B[37m\u001B[0m \u001B[1m1s\u001B[0m 1ms/step - accuracy: 0.7712 - loss: 0.4183 - val_accuracy: 0.7701 - val_loss: 0.4167\n",
      "Epoch 67/120\n",
      "\u001B[1m1344/1344\u001B[0m \u001B[32m━━━━━━━━━━━━━━━━━━━━\u001B[0m\u001B[37m\u001B[0m \u001B[1m1s\u001B[0m 1ms/step - accuracy: 0.7686 - loss: 0.4153 - val_accuracy: 0.7621 - val_loss: 0.4223\n",
      "Epoch 68/120\n",
      "\u001B[1m1344/1344\u001B[0m \u001B[32m━━━━━━━━━━━━━━━━━━━━\u001B[0m\u001B[37m\u001B[0m \u001B[1m1s\u001B[0m 1ms/step - accuracy: 0.7680 - loss: 0.4163 - val_accuracy: 0.7740 - val_loss: 0.4144\n",
      "Epoch 69/120\n",
      "\u001B[1m1344/1344\u001B[0m \u001B[32m━━━━━━━━━━━━━━━━━━━━\u001B[0m\u001B[37m\u001B[0m \u001B[1m2s\u001B[0m 1ms/step - accuracy: 0.7687 - loss: 0.4180 - val_accuracy: 0.7698 - val_loss: 0.4162\n",
      "Epoch 70/120\n",
      "\u001B[1m1344/1344\u001B[0m \u001B[32m━━━━━━━━━━━━━━━━━━━━\u001B[0m\u001B[37m\u001B[0m \u001B[1m2s\u001B[0m 1ms/step - accuracy: 0.7709 - loss: 0.4145 - val_accuracy: 0.7708 - val_loss: 0.4140\n",
      "Epoch 71/120\n",
      "\u001B[1m1344/1344\u001B[0m \u001B[32m━━━━━━━━━━━━━━━━━━━━\u001B[0m\u001B[37m\u001B[0m \u001B[1m1s\u001B[0m 1ms/step - accuracy: 0.7717 - loss: 0.4160 - val_accuracy: 0.7715 - val_loss: 0.4159\n",
      "Epoch 72/120\n",
      "\u001B[1m1344/1344\u001B[0m \u001B[32m━━━━━━━━━━━━━━━━━━━━\u001B[0m\u001B[37m\u001B[0m \u001B[1m1s\u001B[0m 1ms/step - accuracy: 0.7704 - loss: 0.4160 - val_accuracy: 0.7730 - val_loss: 0.4156\n",
      "Epoch 73/120\n",
      "\u001B[1m1344/1344\u001B[0m \u001B[32m━━━━━━━━━━━━━━━━━━━━\u001B[0m\u001B[37m\u001B[0m \u001B[1m1s\u001B[0m 1ms/step - accuracy: 0.7687 - loss: 0.4191 - val_accuracy: 0.7728 - val_loss: 0.4158\n",
      "Epoch 74/120\n",
      "\u001B[1m1344/1344\u001B[0m \u001B[32m━━━━━━━━━━━━━━━━━━━━\u001B[0m\u001B[37m\u001B[0m \u001B[1m1s\u001B[0m 1ms/step - accuracy: 0.7695 - loss: 0.4158 - val_accuracy: 0.7714 - val_loss: 0.4146\n",
      "Epoch 75/120\n",
      "\u001B[1m1344/1344\u001B[0m \u001B[32m━━━━━━━━━━━━━━━━━━━━\u001B[0m\u001B[37m\u001B[0m \u001B[1m1s\u001B[0m 1ms/step - accuracy: 0.7719 - loss: 0.4168 - val_accuracy: 0.7707 - val_loss: 0.4131\n",
      "Epoch 76/120\n",
      "\u001B[1m1344/1344\u001B[0m \u001B[32m━━━━━━━━━━━━━━━━━━━━\u001B[0m\u001B[37m\u001B[0m \u001B[1m2s\u001B[0m 1ms/step - accuracy: 0.7702 - loss: 0.4163 - val_accuracy: 0.7721 - val_loss: 0.4130\n",
      "Epoch 77/120\n",
      "\u001B[1m1344/1344\u001B[0m \u001B[32m━━━━━━━━━━━━━━━━━━━━\u001B[0m\u001B[37m\u001B[0m \u001B[1m2s\u001B[0m 1ms/step - accuracy: 0.7708 - loss: 0.4162 - val_accuracy: 0.7723 - val_loss: 0.4119\n",
      "Epoch 78/120\n",
      "\u001B[1m1344/1344\u001B[0m \u001B[32m━━━━━━━━━━━━━━━━━━━━\u001B[0m\u001B[37m\u001B[0m \u001B[1m1s\u001B[0m 1ms/step - accuracy: 0.7729 - loss: 0.4143 - val_accuracy: 0.7736 - val_loss: 0.4147\n",
      "Epoch 79/120\n",
      "\u001B[1m1344/1344\u001B[0m \u001B[32m━━━━━━━━━━━━━━━━━━━━\u001B[0m\u001B[37m\u001B[0m \u001B[1m2s\u001B[0m 1ms/step - accuracy: 0.7696 - loss: 0.4146 - val_accuracy: 0.7707 - val_loss: 0.4138\n",
      "Epoch 80/120\n",
      "\u001B[1m1344/1344\u001B[0m \u001B[32m━━━━━━━━━━━━━━━━━━━━\u001B[0m\u001B[37m\u001B[0m \u001B[1m1s\u001B[0m 1ms/step - accuracy: 0.7714 - loss: 0.4161 - val_accuracy: 0.7713 - val_loss: 0.4128\n",
      "Epoch 81/120\n",
      "\u001B[1m1344/1344\u001B[0m \u001B[32m━━━━━━━━━━━━━━━━━━━━\u001B[0m\u001B[37m\u001B[0m \u001B[1m1s\u001B[0m 1ms/step - accuracy: 0.7710 - loss: 0.4141 - val_accuracy: 0.7721 - val_loss: 0.4148\n",
      "Epoch 82/120\n",
      "\u001B[1m1344/1344\u001B[0m \u001B[32m━━━━━━━━━━━━━━━━━━━━\u001B[0m\u001B[37m\u001B[0m \u001B[1m1s\u001B[0m 1ms/step - accuracy: 0.7702 - loss: 0.4155 - val_accuracy: 0.7711 - val_loss: 0.4143\n",
      "Epoch 83/120\n",
      "\u001B[1m1344/1344\u001B[0m \u001B[32m━━━━━━━━━━━━━━━━━━━━\u001B[0m\u001B[37m\u001B[0m \u001B[1m2s\u001B[0m 1ms/step - accuracy: 0.7700 - loss: 0.4110 - val_accuracy: 0.7710 - val_loss: 0.4125\n",
      "Epoch 84/120\n",
      "\u001B[1m1344/1344\u001B[0m \u001B[32m━━━━━━━━━━━━━━━━━━━━\u001B[0m\u001B[37m\u001B[0m \u001B[1m1s\u001B[0m 1ms/step - accuracy: 0.7679 - loss: 0.4179 - val_accuracy: 0.7722 - val_loss: 0.4130\n",
      "Epoch 85/120\n",
      "\u001B[1m1344/1344\u001B[0m \u001B[32m━━━━━━━━━━━━━━━━━━━━\u001B[0m\u001B[37m\u001B[0m \u001B[1m1s\u001B[0m 1ms/step - accuracy: 0.7712 - loss: 0.4154 - val_accuracy: 0.7661 - val_loss: 0.4156\n",
      "Epoch 86/120\n",
      "\u001B[1m1344/1344\u001B[0m \u001B[32m━━━━━━━━━━━━━━━━━━━━\u001B[0m\u001B[37m\u001B[0m \u001B[1m1s\u001B[0m 1ms/step - accuracy: 0.7705 - loss: 0.4132 - val_accuracy: 0.7723 - val_loss: 0.4135\n",
      "Epoch 87/120\n",
      "\u001B[1m1344/1344\u001B[0m \u001B[32m━━━━━━━━━━━━━━━━━━━━\u001B[0m\u001B[37m\u001B[0m \u001B[1m1s\u001B[0m 1ms/step - accuracy: 0.7689 - loss: 0.4179 - val_accuracy: 0.7727 - val_loss: 0.4117\n",
      "Epoch 88/120\n",
      "\u001B[1m1344/1344\u001B[0m \u001B[32m━━━━━━━━━━━━━━━━━━━━\u001B[0m\u001B[37m\u001B[0m \u001B[1m1s\u001B[0m 1ms/step - accuracy: 0.7750 - loss: 0.4127 - val_accuracy: 0.7736 - val_loss: 0.4122\n",
      "Epoch 89/120\n",
      "\u001B[1m1344/1344\u001B[0m \u001B[32m━━━━━━━━━━━━━━━━━━━━\u001B[0m\u001B[37m\u001B[0m \u001B[1m1s\u001B[0m 1ms/step - accuracy: 0.7713 - loss: 0.4143 - val_accuracy: 0.7728 - val_loss: 0.4141\n",
      "Epoch 90/120\n",
      "\u001B[1m1344/1344\u001B[0m \u001B[32m━━━━━━━━━━━━━━━━━━━━\u001B[0m\u001B[37m\u001B[0m \u001B[1m2s\u001B[0m 1ms/step - accuracy: 0.7715 - loss: 0.4127 - val_accuracy: 0.7723 - val_loss: 0.4133\n",
      "Epoch 91/120\n",
      "\u001B[1m1344/1344\u001B[0m \u001B[32m━━━━━━━━━━━━━━━━━━━━\u001B[0m\u001B[37m\u001B[0m \u001B[1m2s\u001B[0m 1ms/step - accuracy: 0.7727 - loss: 0.4154 - val_accuracy: 0.7718 - val_loss: 0.4121\n",
      "Epoch 92/120\n",
      "\u001B[1m1344/1344\u001B[0m \u001B[32m━━━━━━━━━━━━━━━━━━━━\u001B[0m\u001B[37m\u001B[0m \u001B[1m2s\u001B[0m 1ms/step - accuracy: 0.7726 - loss: 0.4110 - val_accuracy: 0.7724 - val_loss: 0.4115\n",
      "Epoch 93/120\n",
      "\u001B[1m1344/1344\u001B[0m \u001B[32m━━━━━━━━━━━━━━━━━━━━\u001B[0m\u001B[37m\u001B[0m \u001B[1m1s\u001B[0m 1ms/step - accuracy: 0.7720 - loss: 0.4127 - val_accuracy: 0.7719 - val_loss: 0.4167\n",
      "Epoch 94/120\n",
      "\u001B[1m1344/1344\u001B[0m \u001B[32m━━━━━━━━━━━━━━━━━━━━\u001B[0m\u001B[37m\u001B[0m \u001B[1m1s\u001B[0m 1ms/step - accuracy: 0.7715 - loss: 0.4125 - val_accuracy: 0.7723 - val_loss: 0.4177\n",
      "Epoch 95/120\n",
      "\u001B[1m1344/1344\u001B[0m \u001B[32m━━━━━━━━━━━━━━━━━━━━\u001B[0m\u001B[37m\u001B[0m \u001B[1m1s\u001B[0m 1ms/step - accuracy: 0.7705 - loss: 0.4153 - val_accuracy: 0.7730 - val_loss: 0.4110\n",
      "Epoch 96/120\n",
      "\u001B[1m1344/1344\u001B[0m \u001B[32m━━━━━━━━━━━━━━━━━━━━\u001B[0m\u001B[37m\u001B[0m \u001B[1m1s\u001B[0m 1ms/step - accuracy: 0.7719 - loss: 0.4134 - val_accuracy: 0.7726 - val_loss: 0.4125\n",
      "Epoch 97/120\n",
      "\u001B[1m1344/1344\u001B[0m \u001B[32m━━━━━━━━━━━━━━━━━━━━\u001B[0m\u001B[37m\u001B[0m \u001B[1m2s\u001B[0m 1ms/step - accuracy: 0.7727 - loss: 0.4122 - val_accuracy: 0.7729 - val_loss: 0.4115\n",
      "Epoch 98/120\n",
      "\u001B[1m1344/1344\u001B[0m \u001B[32m━━━━━━━━━━━━━━━━━━━━\u001B[0m\u001B[37m\u001B[0m \u001B[1m1s\u001B[0m 1ms/step - accuracy: 0.7732 - loss: 0.4108 - val_accuracy: 0.7732 - val_loss: 0.4134\n",
      "Epoch 99/120\n",
      "\u001B[1m1344/1344\u001B[0m \u001B[32m━━━━━━━━━━━━━━━━━━━━\u001B[0m\u001B[37m\u001B[0m \u001B[1m1s\u001B[0m 1ms/step - accuracy: 0.7698 - loss: 0.4176 - val_accuracy: 0.7723 - val_loss: 0.4130\n",
      "Epoch 100/120\n",
      "\u001B[1m1344/1344\u001B[0m \u001B[32m━━━━━━━━━━━━━━━━━━━━\u001B[0m\u001B[37m\u001B[0m \u001B[1m2s\u001B[0m 1ms/step - accuracy: 0.7733 - loss: 0.4123 - val_accuracy: 0.7729 - val_loss: 0.4135\n",
      "Epoch 101/120\n",
      "\u001B[1m1344/1344\u001B[0m \u001B[32m━━━━━━━━━━━━━━━━━━━━\u001B[0m\u001B[37m\u001B[0m \u001B[1m1s\u001B[0m 950us/step - accuracy: 0.7704 - loss: 0.4140 - val_accuracy: 0.7731 - val_loss: 0.4122\n",
      "Epoch 102/120\n",
      "\u001B[1m1344/1344\u001B[0m \u001B[32m━━━━━━━━━━━━━━━━━━━━\u001B[0m\u001B[37m\u001B[0m \u001B[1m1s\u001B[0m 998us/step - accuracy: 0.7727 - loss: 0.4114 - val_accuracy: 0.7732 - val_loss: 0.4115\n",
      "Epoch 103/120\n",
      "\u001B[1m1344/1344\u001B[0m \u001B[32m━━━━━━━━━━━━━━━━━━━━\u001B[0m\u001B[37m\u001B[0m \u001B[1m1s\u001B[0m 919us/step - accuracy: 0.7744 - loss: 0.4130 - val_accuracy: 0.7740 - val_loss: 0.4116\n",
      "Epoch 104/120\n",
      "\u001B[1m1344/1344\u001B[0m \u001B[32m━━━━━━━━━━━━━━━━━━━━\u001B[0m\u001B[37m\u001B[0m \u001B[1m1s\u001B[0m 1ms/step - accuracy: 0.7695 - loss: 0.4148 - val_accuracy: 0.7722 - val_loss: 0.4118\n",
      "Epoch 105/120\n",
      "\u001B[1m1344/1344\u001B[0m \u001B[32m━━━━━━━━━━━━━━━━━━━━\u001B[0m\u001B[37m\u001B[0m \u001B[1m1s\u001B[0m 1ms/step - accuracy: 0.7734 - loss: 0.4108 - val_accuracy: 0.7729 - val_loss: 0.4100\n",
      "Epoch 106/120\n",
      "\u001B[1m1344/1344\u001B[0m \u001B[32m━━━━━━━━━━━━━━━━━━━━\u001B[0m\u001B[37m\u001B[0m \u001B[1m1s\u001B[0m 970us/step - accuracy: 0.7707 - loss: 0.4140 - val_accuracy: 0.7724 - val_loss: 0.4117\n",
      "Epoch 107/120\n",
      "\u001B[1m1344/1344\u001B[0m \u001B[32m━━━━━━━━━━━━━━━━━━━━\u001B[0m\u001B[37m\u001B[0m \u001B[1m1s\u001B[0m 857us/step - accuracy: 0.7710 - loss: 0.4145 - val_accuracy: 0.7709 - val_loss: 0.4121\n",
      "Epoch 108/120\n",
      "\u001B[1m1344/1344\u001B[0m \u001B[32m━━━━━━━━━━━━━━━━━━━━\u001B[0m\u001B[37m\u001B[0m \u001B[1m1s\u001B[0m 865us/step - accuracy: 0.7720 - loss: 0.4130 - val_accuracy: 0.7722 - val_loss: 0.4123\n",
      "Epoch 109/120\n",
      "\u001B[1m1344/1344\u001B[0m \u001B[32m━━━━━━━━━━━━━━━━━━━━\u001B[0m\u001B[37m\u001B[0m \u001B[1m1s\u001B[0m 918us/step - accuracy: 0.7729 - loss: 0.4125 - val_accuracy: 0.7727 - val_loss: 0.4120\n",
      "Epoch 110/120\n",
      "\u001B[1m1344/1344\u001B[0m \u001B[32m━━━━━━━━━━━━━━━━━━━━\u001B[0m\u001B[37m\u001B[0m \u001B[1m1s\u001B[0m 870us/step - accuracy: 0.7712 - loss: 0.4111 - val_accuracy: 0.7735 - val_loss: 0.4120\n",
      "Epoch 111/120\n",
      "\u001B[1m1344/1344\u001B[0m \u001B[32m━━━━━━━━━━━━━━━━━━━━\u001B[0m\u001B[37m\u001B[0m \u001B[1m1s\u001B[0m 898us/step - accuracy: 0.7714 - loss: 0.4143 - val_accuracy: 0.7727 - val_loss: 0.4144\n",
      "Epoch 112/120\n",
      "\u001B[1m1344/1344\u001B[0m \u001B[32m━━━━━━━━━━━━━━━━━━━━\u001B[0m\u001B[37m\u001B[0m \u001B[1m1s\u001B[0m 924us/step - accuracy: 0.7727 - loss: 0.4087 - val_accuracy: 0.7724 - val_loss: 0.4118\n",
      "Epoch 113/120\n",
      "\u001B[1m1344/1344\u001B[0m \u001B[32m━━━━━━━━━━━━━━━━━━━━\u001B[0m\u001B[37m\u001B[0m \u001B[1m1s\u001B[0m 958us/step - accuracy: 0.7737 - loss: 0.4124 - val_accuracy: 0.7726 - val_loss: 0.4113\n",
      "Epoch 114/120\n",
      "\u001B[1m1344/1344\u001B[0m \u001B[32m━━━━━━━━━━━━━━━━━━━━\u001B[0m\u001B[37m\u001B[0m \u001B[1m1s\u001B[0m 866us/step - accuracy: 0.7718 - loss: 0.4129 - val_accuracy: 0.7737 - val_loss: 0.4106\n",
      "Epoch 115/120\n",
      "\u001B[1m1344/1344\u001B[0m \u001B[32m━━━━━━━━━━━━━━━━━━━━\u001B[0m\u001B[37m\u001B[0m \u001B[1m1s\u001B[0m 892us/step - accuracy: 0.7734 - loss: 0.4097 - val_accuracy: 0.7745 - val_loss: 0.4112\n",
      "Epoch 116/120\n",
      "\u001B[1m1344/1344\u001B[0m \u001B[32m━━━━━━━━━━━━━━━━━━━━\u001B[0m\u001B[37m\u001B[0m \u001B[1m1s\u001B[0m 902us/step - accuracy: 0.7714 - loss: 0.4120 - val_accuracy: 0.7725 - val_loss: 0.4139\n",
      "Epoch 117/120\n",
      "\u001B[1m1344/1344\u001B[0m \u001B[32m━━━━━━━━━━━━━━━━━━━━\u001B[0m\u001B[37m\u001B[0m \u001B[1m1s\u001B[0m 875us/step - accuracy: 0.7700 - loss: 0.4132 - val_accuracy: 0.7726 - val_loss: 0.4121\n",
      "Epoch 118/120\n",
      "\u001B[1m1344/1344\u001B[0m \u001B[32m━━━━━━━━━━━━━━━━━━━━\u001B[0m\u001B[37m\u001B[0m \u001B[1m1s\u001B[0m 865us/step - accuracy: 0.7701 - loss: 0.4140 - val_accuracy: 0.7740 - val_loss: 0.4100\n",
      "Epoch 119/120\n",
      "\u001B[1m1344/1344\u001B[0m \u001B[32m━━━━━━━━━━━━━━━━━━━━\u001B[0m\u001B[37m\u001B[0m \u001B[1m1s\u001B[0m 862us/step - accuracy: 0.7742 - loss: 0.4120 - val_accuracy: 0.7729 - val_loss: 0.4103\n",
      "Epoch 120/120\n",
      "\u001B[1m1344/1344\u001B[0m \u001B[32m━━━━━━━━━━━━━━━━━━━━\u001B[0m\u001B[37m\u001B[0m \u001B[1m1s\u001B[0m 953us/step - accuracy: 0.7717 - loss: 0.4113 - val_accuracy: 0.7656 - val_loss: 0.4137\n"
     ]
    }
   ],
   "execution_count": 24
  },
  {
   "cell_type": "code",
   "metadata": {
    "ExecuteTime": {
     "end_time": "2024-11-10T17:34:14.628743Z",
     "start_time": "2024-11-10T17:34:13.640658Z"
    }
   },
   "source": [
    "# Plot our training curves. This is always important to see if we've started to overfit or whether \n",
    "# we could benefit from more training cycles....\n",
    "import matplotlib.pyplot as plt\n",
    "plt.plot(history.history[\"accuracy\"], label=\"Training Accuracy\")\n",
    "plt.plot(history.history[\"val_accuracy\"],label=\"Validation Set Accuracy\")\n",
    "plt.legend()\n",
    "plt.grid()\n",
    "# The following graph should show about 77% accuracy."
   ],
   "outputs": [
    {
     "data": {
      "text/plain": [
       "<Figure size 640x480 with 1 Axes>"
      ],
      "image/png": "[encoded data removed]"
     },
     "metadata": {},
     "output_type": "display_data"
    }
   ],
   "execution_count": 25
  },
  {
   "cell_type": "code",
   "metadata": {
    "ExecuteTime": {
     "end_time": "2024-11-10T17:34:19.350947Z",
     "start_time": "2024-11-10T17:34:19.346885Z"
    }
   },
   "source": [
    "# Calculate base rate accuracy\n",
    "print(y_train.mean())\n",
    "# This shows us what accuracy we could get if we just guess the same thing all the time.\n"
   ],
   "outputs": [
    {
     "name": "stdout",
     "output_type": "stream",
     "text": [
      "0.39325524980280685\n"
     ]
    }
   ],
   "execution_count": 26
  },
  {
   "cell_type": "markdown",
   "metadata": {},
   "source": [
    "- In this game, since there are always 2 spies randomly chosen from a team of 5,  that is 2/5=40% of the time we could guess someone is a spy.  This matches the base rate above, very closely.   \n",
    "\n",
    "- However if we just wanted a simple fixed classifer to make the best fixed guess, by just saying  \"Not Spy\" all of the time we could score a whopping 60% accuracy!  So if our classifier can't beat  60% then we can say that it is rubbish.\n",
    "- Fortunately our classifer is scoring over 70% accuracy comfortably (as should be shown in the graph above)."
   ]
  },
  {
   "cell_type": "markdown",
   "metadata": {},
   "source": [
    "- In the next code block, I'd like to work out if our neural network's accuracy improves during each game.\n",
    "- For example, once we've seen several rounds of play we gather more clues as to who is a spy, so our accuracy should increase as each game goes on."
   ]
  },
  {
   "cell_type": "code",
   "metadata": {
    "ExecuteTime": {
     "end_time": "2024-11-10T17:34:23.257937Z",
     "start_time": "2024-11-10T17:34:22.805999Z"
    }
   },
   "source": [
    "accuracy_by_turn=[]\n",
    "maximum_turn=df['Turn'].max()\n",
    "accuracy_metric=tf.keras.metrics.Accuracy()\n",
    "print(\"maximum_turn\",maximum_turn)\n",
    "for turn in range(1,maximum_turn+1):\n",
    "    df_restricted=df.query('Turn>='+str(turn)) # Pull out just those rows of the training data corresponding to later turns in the game\n",
    "    \n",
    "    x=df_restricted.values[:,4:18].astype(np.float32)\n",
    "    y=df_restricted.values[:,18].astype(np.int32)\n",
    "    y_guess=model(x)\n",
    "    y_guess=tf.argmax(y_guess,axis=1)\n",
    "    #accuracy=tf.reduce_mean(tf.cast(tf.equal(y,y_guess),tf.float32)) # This formula owuld also give us the accuracy but this is hand-evaluated.\n",
    "    accuracy=accuracy_metric(y_guess,y) # This function calculates accuracy using an in-built keras function.\n",
    "    accuracy_by_turn.append(accuracy.numpy()) # record the results so we can plot them.\n",
    "print(tf.range(maximum_turn),accuracy_by_turn)\n",
    "plt.plot(tf.range(1,1+len(accuracy_by_turn)),accuracy_by_turn)\n",
    "plt.title('Accuracy at identifying whether \"Bounder\" is a spy as the game progresses')\n",
    "plt.xlabel('Turn')\n",
    "plt.ylabel('Accuracy')\n",
    "plt.grid()"
   ],
   "outputs": [
    {
     "name": "stdout",
     "output_type": "stream",
     "text": [
      "maximum_turn 5\n",
      "tf.Tensor([0 1 2 3 4], shape=(5,), dtype=int64) [0.7654259, 0.7847333, 0.805792, 0.82005626, 0.8259412]\n"
     ]
    },
    {
     "data": {
      "text/plain": [
       "<Figure size 640x480 with 1 Axes>"
      ],
      "image/png": "[encoded data removed]"
     },
     "metadata": {},
     "output_type": "display_data"
    }
   ],
   "execution_count": 27
  },
  {
   "cell_type": "code",
   "metadata": {
    "ExecuteTime": {
     "end_time": "2024-11-10T17:40:17.970031Z",
     "start_time": "2024-11-10T17:40:17.941706Z"
    }
   },
   "source": [
    "# Finally, save our model so we can build a resistance-bot that plays using this neural network.\n",
    "model.save('loggerbot_classifier.keras')"
   ],
   "outputs": [],
   "execution_count": 34
  },
  {
   "metadata": {
    "ExecuteTime": {
     "end_time": "2024-11-10T17:40:34.679877Z",
     "start_time": "2024-11-10T17:40:34.613398Z"
    }
   },
   "cell_type": "code",
   "source": [
    "model_filename = 'loggerbot_classifier.keras'\n",
    "model = keras.models.load_model(model_filename)\n",
    "print(model.summary())"
   ],
   "outputs": [
    {
     "data": {
      "text/plain": [
       "\u001B[1mModel: \"my_neural_network\"\u001B[0m\n"
      ],
      "text/html": [
       "<pre style=\"white-space:pre;overflow-x:auto;line-height:normal;font-family:Menlo,'DejaVu Sans Mono',consolas,'Courier New',monospace\"><span style=\"font-weight: bold\">Model: \"my_neural_network\"</span>\n",
       "</pre>\n"
      ]
     },
     "metadata": {},
     "output_type": "display_data"
    },
    {
     "data": {
      "text/plain": [
       "┏━━━━━━━━━━━━━━━━━━━━━━━━━━━━━━━━━┳━━━━━━━━━━━━━━━━━━━━━━━━┳━━━━━━━━━━━━━━━┓\n",
       "┃\u001B[1m \u001B[0m\u001B[1mLayer (type)                   \u001B[0m\u001B[1m \u001B[0m┃\u001B[1m \u001B[0m\u001B[1mOutput Shape          \u001B[0m\u001B[1m \u001B[0m┃\u001B[1m \u001B[0m\u001B[1m      Param #\u001B[0m\u001B[1m \u001B[0m┃\n",
       "┡━━━━━━━━━━━━━━━━━━━━━━━━━━━━━━━━━╇━━━━━━━━━━━━━━━━━━━━━━━━╇━━━━━━━━━━━━━━━┩\n",
       "│ dense_9 (\u001B[38;5;33mDense\u001B[0m)                 │ (\u001B[38;5;45mNone\u001B[0m, \u001B[38;5;34m10\u001B[0m)             │           \u001B[38;5;34m150\u001B[0m │\n",
       "├─────────────────────────────────┼────────────────────────┼───────────────┤\n",
       "│ dense_10 (\u001B[38;5;33mDense\u001B[0m)                │ (\u001B[38;5;45mNone\u001B[0m, \u001B[38;5;34m10\u001B[0m)             │           \u001B[38;5;34m110\u001B[0m │\n",
       "├─────────────────────────────────┼────────────────────────┼───────────────┤\n",
       "│ dense_11 (\u001B[38;5;33mDense\u001B[0m)                │ (\u001B[38;5;45mNone\u001B[0m, \u001B[38;5;34m2\u001B[0m)              │            \u001B[38;5;34m22\u001B[0m │\n",
       "└─────────────────────────────────┴────────────────────────┴───────────────┘\n"
      ],
      "text/html": [
       "<pre style=\"white-space:pre;overflow-x:auto;line-height:normal;font-family:Menlo,'DejaVu Sans Mono',consolas,'Courier New',monospace\">┏━━━━━━━━━━━━━━━━━━━━━━━━━━━━━━━━━┳━━━━━━━━━━━━━━━━━━━━━━━━┳━━━━━━━━━━━━━━━┓\n",
       "┃<span style=\"font-weight: bold\"> Layer (type)                    </span>┃<span style=\"font-weight: bold\"> Output Shape           </span>┃<span style=\"font-weight: bold\">       Param # </span>┃\n",
       "┡━━━━━━━━━━━━━━━━━━━━━━━━━━━━━━━━━╇━━━━━━━━━━━━━━━━━━━━━━━━╇━━━━━━━━━━━━━━━┩\n",
       "│ dense_9 (<span style=\"color: #0087ff; text-decoration-color: #0087ff\">Dense</span>)                 │ (<span style=\"color: #00d7ff; text-decoration-color: #00d7ff\">None</span>, <span style=\"color: #00af00; text-decoration-color: #00af00\">10</span>)             │           <span style=\"color: #00af00; text-decoration-color: #00af00\">150</span> │\n",
       "├─────────────────────────────────┼────────────────────────┼───────────────┤\n",
       "│ dense_10 (<span style=\"color: #0087ff; text-decoration-color: #0087ff\">Dense</span>)                │ (<span style=\"color: #00d7ff; text-decoration-color: #00d7ff\">None</span>, <span style=\"color: #00af00; text-decoration-color: #00af00\">10</span>)             │           <span style=\"color: #00af00; text-decoration-color: #00af00\">110</span> │\n",
       "├─────────────────────────────────┼────────────────────────┼───────────────┤\n",
       "│ dense_11 (<span style=\"color: #0087ff; text-decoration-color: #0087ff\">Dense</span>)                │ (<span style=\"color: #00d7ff; text-decoration-color: #00d7ff\">None</span>, <span style=\"color: #00af00; text-decoration-color: #00af00\">2</span>)              │            <span style=\"color: #00af00; text-decoration-color: #00af00\">22</span> │\n",
       "└─────────────────────────────────┴────────────────────────┴───────────────┘\n",
       "</pre>\n"
      ]
     },
     "metadata": {},
     "output_type": "display_data"
    },
    {
     "data": {
      "text/plain": [
       "\u001B[1m Total params: \u001B[0m\u001B[38;5;34m848\u001B[0m (3.32 KB)\n"
      ],
      "text/html": [
       "<pre style=\"white-space:pre;overflow-x:auto;line-height:normal;font-family:Menlo,'DejaVu Sans Mono',consolas,'Courier New',monospace\"><span style=\"font-weight: bold\"> Total params: </span><span style=\"color: #00af00; text-decoration-color: #00af00\">848</span> (3.32 KB)\n",
       "</pre>\n"
      ]
     },
     "metadata": {},
     "output_type": "display_data"
    },
    {
     "data": {
      "text/plain": [
       "\u001B[1m Trainable params: \u001B[0m\u001B[38;5;34m282\u001B[0m (1.10 KB)\n"
      ],
      "text/html": [
       "<pre style=\"white-space:pre;overflow-x:auto;line-height:normal;font-family:Menlo,'DejaVu Sans Mono',consolas,'Courier New',monospace\"><span style=\"font-weight: bold\"> Trainable params: </span><span style=\"color: #00af00; text-decoration-color: #00af00\">282</span> (1.10 KB)\n",
       "</pre>\n"
      ]
     },
     "metadata": {},
     "output_type": "display_data"
    },
    {
     "data": {
      "text/plain": [
       "\u001B[1m Non-trainable params: \u001B[0m\u001B[38;5;34m0\u001B[0m (0.00 B)\n"
      ],
      "text/html": [
       "<pre style=\"white-space:pre;overflow-x:auto;line-height:normal;font-family:Menlo,'DejaVu Sans Mono',consolas,'Courier New',monospace\"><span style=\"font-weight: bold\"> Non-trainable params: </span><span style=\"color: #00af00; text-decoration-color: #00af00\">0</span> (0.00 B)\n",
       "</pre>\n"
      ]
     },
     "metadata": {},
     "output_type": "display_data"
    },
    {
     "data": {
      "text/plain": [
       "\u001B[1m Optimizer params: \u001B[0m\u001B[38;5;34m566\u001B[0m (2.21 KB)\n"
      ],
      "text/html": [
       "<pre style=\"white-space:pre;overflow-x:auto;line-height:normal;font-family:Menlo,'DejaVu Sans Mono',consolas,'Courier New',monospace\"><span style=\"font-weight: bold\"> Optimizer params: </span><span style=\"color: #00af00; text-decoration-color: #00af00\">566</span> (2.21 KB)\n",
       "</pre>\n"
      ]
     },
     "metadata": {},
     "output_type": "display_data"
    },
    {
     "name": "stdout",
     "output_type": "stream",
     "text": [
      "None\n"
     ]
    }
   ],
   "execution_count": 35
  },
  {
   "metadata": {
    "ExecuteTime": {
     "end_time": "2024-11-10T17:41:20.886556Z",
     "start_time": "2024-11-10T17:41:20.870709Z"
    }
   },
   "cell_type": "code",
   "source": "model.save('loggerbot_classifier.keras')\n",
   "outputs": [
    {
     "name": "stderr",
     "output_type": "stream",
     "text": [
      "WARNING:absl:You are saving your model as an HDF5 file via `model.save()` or `keras.saving.save_model(model)`. This file format is considered legacy. We recommend using instead the native Keras format, e.g. `model.save('my_model.keras')` or `keras.saving.save_model(model, 'my_model.keras')`. \n"
     ]
    }
   ],
   "execution_count": 36
  },
  {
   "metadata": {},
   "cell_type": "code",
   "outputs": [],
   "execution_count": null,
   "source": ""
  }
 ],
 "metadata": {
  "kernelspec": {
   "display_name": "Python 3 (ipykernel)",
   "language": "python",
   "name": "python3"
  },
  "language_info": {
   "codemirror_mode": {
    "name": "ipython",
    "version": 3
   },
   "file_extension": ".py",
   "mimetype": "text/x-python",
   "name": "python",
   "nbconvert_exporter": "python",
   "pygments_lexer": "ipython3",
   "version": "3.12.3"
  }
 },
 "nbformat": 4,
 "nbformat_minor": 4
}
